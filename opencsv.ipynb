{
 "cells": [
  {
   "cell_type": "code",
   "execution_count": 89,
   "metadata": {},
   "outputs": [],
   "source": [
    "# csv headers\n",
    "# ['ï»¿web-scraper-order', \n",
    "# 'web-scraper-start-url', \n",
    "# 'church-link', 'church-link-href', 'hymn-pagination', 'hymn-selector', 'hymn-selector-href', 'hymn-title', 'hymn-lyrics']\n",
    "# ['1667508844-14', 'https://nziyo.com/', 'Catholic Hymns', 'https://nziyo.com/catholic_hymn/', 'https://nziyo.com/catholic_hymn/page/8/', 'Hymn 79Â\\xa0Â\\xa0Â\\xa0Â\\xa0Farai Mambo Achauya â€“ R. Svosve', 'https://nziyo.com/catholic_hymn/farai-mambo-achauya-r-svosve_hymn-79/', 'Catholic Shona Hymn 79', 'Farai Mambo Achauya â€“ R. Svosve\\n\\n\\n\\nÂ\\xa0\\n\\n\\n\\nM: Farai Mambo achauya\\n\\nV: S/A Mambo achauya farai achauya Mambo Alleluya-ha farai Mambo achauya\\n\\nB: Alleluya Mambo achauya Alleluya farai Mambo achauya\\n\\n\\n\\nÂ\\xa0\\n\\n\\n\\nMadetembo:\\n\\n\\n\\n1. Tarirai Mambo achazouya navasarudzi vake vose.Â\\xa0 Â\\xa0 Â\\xa0 Â\\xa0 Â\\xa0 Â\\xa0 Â\\xa0 Â\\xa0 Â\\xa0 Â\\xa0 Â\\xa0 Â\\xa0 Â\\xa0 Â\\xa0 Â\\xa0 Â\\xa0 Â\\xa0 Â\\xa0 Â\\xa0 Â\\xa0 Â\\xa0 Â\\xa0 2. Nezuva irero chiedza chikuru chichazopenya\\n\\n\\n\\nÂ\\xa0\\n\\n\\n\\nChorus:\\n\\nAll Farai Mambo achauya achauya Mambo Alleluya']\n",
    "\n",
    "#  <song xmlns=\"http://openlyrics.info/namespace/2009/song\"\n",
    "#       version=\"0.9\">\n",
    "#   <properties>\n",
    "#     <titles>\n",
    "#       <title>Amazing Grace</title>\n",
    "#     </titles>\n",
    "#   </properties>\n",
    "#   <lyrics>\n",
    "#     <verse name=\"v1\">\n",
    "#       <lines>\n",
    "#         Amazing grace how sweet the sound\n",
    "#       </lines>\n",
    "#     </verse>\n",
    "#   </lyrics>\n",
    "# </song>"
   ]
  },
  {
   "cell_type": "code",
   "execution_count": 90,
   "metadata": {},
   "outputs": [],
   "source": [
    "# <lyrics> <verse name=\\\"v1\\\"> <lines> Amazing grace how sweet the sound </lines> </verse> </lyrics>\n",
    "\n",
    "def get_lyrics_xml(lyrics):\n",
    "    lyrics=lyrics.encode(\"ascii\",\"ignore\").decode()\n",
    "    verse_number=1\n",
    "    lyrics_xml_output=\"<lyrics>\"\n",
    "    for lyric in lyrics.splitlines():\n",
    "        if lyric.strip()!='':\n",
    "            i=f\"<verse name=\\\"v{verse_number}\\\"> <lines> {lyric} </lines> </verse>\"\n",
    "            lyrics_xml_output+=i\n",
    "    lyrics_xml_output+=\"</lyrics>\"\n",
    "    return lyrics_xml_output   \n"
   ]
  },
  {
   "cell_type": "code",
   "execution_count": 91,
   "metadata": {},
   "outputs": [],
   "source": [
    "def clean_up_unicode(dirty:str):\n",
    "    return dirty.encode(\"ascii\",\"ignore\").decode()\n"
   ]
  },
  {
   "cell_type": "code",
   "execution_count": 92,
   "metadata": {},
   "outputs": [],
   "source": [
    "def get_song_xml(hymn_dict:dict):\n",
    "    xml_text=f\"<?xml version=\\\"1.0\\\" encoding=\\\"UTF-8\\\"?><song xmlns=\\\"http://openlyrics.info/namespace/2009/song\\\" version=\\\"0.9\\\"> <properties> <titles> <title>{hymn_dict['hymn-title']}</title> <title>{clean_up_unicode(hymn_dict['hymn-selector'])}</title> </titles> <authors><author>{hymn_dict['church-link']}</author></authors> </properties> {get_lyrics_xml(hymn_dict['hymn-lyrics'])} </song>\"\n",
    "    return xml_text"
   ]
  },
  {
   "cell_type": "code",
   "execution_count": null,
   "metadata": {},
   "outputs": [],
   "source": []
  },
  {
   "cell_type": "code",
   "execution_count": 93,
   "metadata": {},
   "outputs": [
    {
     "ename": "UnicodeDecodeError",
     "evalue": "'charmap' codec can't decode byte 0x9d in position 2218: character maps to <undefined>",
     "output_type": "error",
     "traceback": [
      "\u001b[1;31m---------------------------------------------------------------------------\u001b[0m",
      "\u001b[1;31mUnicodeDecodeError\u001b[0m                        Traceback (most recent call last)",
      "Cell \u001b[1;32mIn [93], line 4\u001b[0m\n\u001b[0;32m      2\u001b[0m \u001b[39mwith\u001b[39;00m \u001b[39mopen\u001b[39m(\u001b[39m'\u001b[39m\u001b[39mhymns.csv\u001b[39m\u001b[39m'\u001b[39m, \u001b[39m'\u001b[39m\u001b[39mr\u001b[39m\u001b[39m'\u001b[39m) \u001b[39mas\u001b[39;00m file:\n\u001b[0;32m      3\u001b[0m     reader \u001b[39m=\u001b[39m csv\u001b[39m.\u001b[39mDictReader(file)\n\u001b[1;32m----> 4\u001b[0m     \u001b[39mfor\u001b[39;00m row \u001b[39min\u001b[39;00m reader:\n\u001b[0;32m      5\u001b[0m         song_xml\u001b[39m=\u001b[39mget_song_xml(row)\n\u001b[0;32m      6\u001b[0m         \u001b[39m# print(song_xml)\u001b[39;00m\n\u001b[0;32m      7\u001b[0m         \u001b[39m# ii=1\u001b[39;00m\n\u001b[0;32m      8\u001b[0m         \u001b[39m# lyrics_list=row['hymn-lyrics'].encode(\"ascii\",\"ignore\").decode().splitlines()\u001b[39;00m\n\u001b[0;32m      9\u001b[0m         \u001b[39m# for i in list(filter(lambda line: line.strip()!='',lyrics_list)):\u001b[39;00m\n\u001b[0;32m     10\u001b[0m         \u001b[39m#     print(f\"****{ii}****\",i)\u001b[39;00m\n\u001b[0;32m     11\u001b[0m         \u001b[39m#     ii+=1\u001b[39;00m\n",
      "File \u001b[1;32mc:\\Users\\maguw\\AppData\\Local\\Programs\\Python\\Python39\\lib\\csv.py:111\u001b[0m, in \u001b[0;36mDictReader.__next__\u001b[1;34m(self)\u001b[0m\n\u001b[0;32m    108\u001b[0m \u001b[39mif\u001b[39;00m \u001b[39mself\u001b[39m\u001b[39m.\u001b[39mline_num \u001b[39m==\u001b[39m \u001b[39m0\u001b[39m:\n\u001b[0;32m    109\u001b[0m     \u001b[39m# Used only for its side effect.\u001b[39;00m\n\u001b[0;32m    110\u001b[0m     \u001b[39mself\u001b[39m\u001b[39m.\u001b[39mfieldnames\n\u001b[1;32m--> 111\u001b[0m row \u001b[39m=\u001b[39m \u001b[39mnext\u001b[39;49m(\u001b[39mself\u001b[39;49m\u001b[39m.\u001b[39;49mreader)\n\u001b[0;32m    112\u001b[0m \u001b[39mself\u001b[39m\u001b[39m.\u001b[39mline_num \u001b[39m=\u001b[39m \u001b[39mself\u001b[39m\u001b[39m.\u001b[39mreader\u001b[39m.\u001b[39mline_num\n\u001b[0;32m    114\u001b[0m \u001b[39m# unlike the basic reader, we prefer not to return blanks,\u001b[39;00m\n\u001b[0;32m    115\u001b[0m \u001b[39m# because we will typically wind up with a dict full of None\u001b[39;00m\n\u001b[0;32m    116\u001b[0m \u001b[39m# values\u001b[39;00m\n",
      "File \u001b[1;32mc:\\Users\\maguw\\AppData\\Local\\Programs\\Python\\Python39\\lib\\encodings\\cp1252.py:23\u001b[0m, in \u001b[0;36mIncrementalDecoder.decode\u001b[1;34m(self, input, final)\u001b[0m\n\u001b[0;32m     22\u001b[0m \u001b[39mdef\u001b[39;00m \u001b[39mdecode\u001b[39m(\u001b[39mself\u001b[39m, \u001b[39minput\u001b[39m, final\u001b[39m=\u001b[39m\u001b[39mFalse\u001b[39;00m):\n\u001b[1;32m---> 23\u001b[0m     \u001b[39mreturn\u001b[39;00m codecs\u001b[39m.\u001b[39;49mcharmap_decode(\u001b[39minput\u001b[39;49m,\u001b[39mself\u001b[39;49m\u001b[39m.\u001b[39;49merrors,decoding_table)[\u001b[39m0\u001b[39m]\n",
      "\u001b[1;31mUnicodeDecodeError\u001b[0m: 'charmap' codec can't decode byte 0x9d in position 2218: character maps to <undefined>"
     ]
    }
   ],
   "source": [
    "import csv\n",
    "with open('hymns.csv', 'r') as file:\n",
    "    reader = csv.DictReader(file)\n",
    "    for row in reader:\n",
    "        song_xml=get_song_xml(row)\n",
    "        # print(song_xml)\n",
    "        # ii=1\n",
    "        # lyrics_list=row['hymn-lyrics'].encode(\"ascii\",\"ignore\").decode().splitlines()\n",
    "        # for i in list(filter(lambda line: line.strip()!='',lyrics_list)):\n",
    "        #     print(f\"****{ii}****\",i)\n",
    "        #     ii+=1\n",
    "        with open(f\"{row['hymn-title']}.xml\",\"w\") as f:\n",
    "            f.write(song_xml)\n",
    "        # break"
   ]
  }
 ],
 "metadata": {
  "kernelspec": {
   "display_name": "Python 3.9.13 64-bit",
   "language": "python",
   "name": "python3"
  },
  "language_info": {
   "codemirror_mode": {
    "name": "ipython",
    "version": 3
   },
   "file_extension": ".py",
   "mimetype": "text/x-python",
   "name": "python",
   "nbconvert_exporter": "python",
   "pygments_lexer": "ipython3",
   "version": "3.9.13"
  },
  "orig_nbformat": 4,
  "vscode": {
   "interpreter": {
    "hash": "6eabdf256336de10f2b6d1e124baf6f404618be62d4ad6cd6b546c4940ab4e90"
   }
  }
 },
 "nbformat": 4,
 "nbformat_minor": 2
}
